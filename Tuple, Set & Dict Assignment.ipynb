{
  "metadata": {
    "language_info": {
      "codemirror_mode": {
        "name": "python",
        "version": 3
      },
      "file_extension": ".py",
      "mimetype": "text/x-python",
      "name": "python",
      "nbconvert_exporter": "python",
      "pygments_lexer": "ipython3",
      "version": "3.8"
    },
    "kernelspec": {
      "name": "python",
      "display_name": "Python (Pyodide)",
      "language": "python"
    }
  },
  "nbformat_minor": 4,
  "nbformat": 4,
  "cells": [
    {
      "cell_type": "markdown",
      "source": "Ans 1: The characterstics of Tuples are given below:\n    1: In tupples, we store an ordered collection of elements.\n    2: We cannot modify the elements of tuples once created, i.e., they are immutable.\n    3: Deletion of tuples is allowed but moodification is not.\n    \nAs stated above, tuples are immutable.",
      "metadata": {}
    },
    {
      "cell_type": "markdown",
      "source": "Ans 2: The two methods in tuple are:\n    count()\n    index()\n\nExample:",
      "metadata": {}
    },
    {
      "cell_type": "code",
      "source": "T1=(1,2,3,\"Ritesh\", 1,\"DS\")",
      "metadata": {
        "tags": [],
        "trusted": true
      },
      "execution_count": 33,
      "outputs": []
    },
    {
      "cell_type": "code",
      "source": "T1.count(1)",
      "metadata": {
        "trusted": true
      },
      "execution_count": 5,
      "outputs": [
        {
          "execution_count": 5,
          "output_type": "execute_result",
          "data": {
            "text/plain": "2"
          },
          "metadata": {}
        }
      ]
    },
    {
      "cell_type": "code",
      "source": "T1.index(3)",
      "metadata": {
        "trusted": true
      },
      "execution_count": 10,
      "outputs": [
        {
          "execution_count": 10,
          "output_type": "execute_result",
          "data": {
            "text/plain": "2"
          },
          "metadata": {}
        }
      ]
    },
    {
      "cell_type": "markdown",
      "source": "Tuples have only two built-in methods as their goal is just to store data so they don't require as much functions as for lists. ",
      "metadata": {}
    },
    {
      "cell_type": "markdown",
      "source": "Ans 3: Sets do not allow duplication of elements.\nThe code to remove duplicates from given list is-",
      "metadata": {}
    },
    {
      "cell_type": "code",
      "source": "List = [1, 1, 1, 2, 1, 3, 1, 4, 2, 1, 2, 2, 2, 3, 2, 4, 3, 1, 3, 2, 3, 3, 3, 4, 4, 1, 4, 2, 4, 3, 4, 4]",
      "metadata": {
        "trusted": true
      },
      "execution_count": 24,
      "outputs": []
    },
    {
      "cell_type": "code",
      "source": "n=list(set(List))",
      "metadata": {
        "trusted": true
      },
      "execution_count": 25,
      "outputs": []
    },
    {
      "cell_type": "code",
      "source": "n",
      "metadata": {
        "trusted": true
      },
      "execution_count": 26,
      "outputs": [
        {
          "execution_count": 26,
          "output_type": "execute_result",
          "data": {
            "text/plain": "[1, 2, 3, 4]"
          },
          "metadata": {}
        }
      ]
    },
    {
      "cell_type": "markdown",
      "source": "Ans 4: The difference between union and update function is that union function creates a new set that has elements of the parent 2 sets where as update function will modify the first set with the second one.\nExample-",
      "metadata": {}
    },
    {
      "cell_type": "code",
      "source": "set1 = {1, 2, 3}\nset2 = {3, 4, 5}\nset3 = set1.union(set2)\nset3",
      "metadata": {
        "trusted": true
      },
      "execution_count": 32,
      "outputs": [
        {
          "execution_count": 32,
          "output_type": "execute_result",
          "data": {
            "text/plain": "{1, 2, 3, 4, 5}"
          },
          "metadata": {}
        }
      ]
    },
    {
      "cell_type": "code",
      "source": "set1.update(set2)\nset1",
      "metadata": {
        "trusted": true
      },
      "execution_count": 29,
      "outputs": [
        {
          "execution_count": 29,
          "output_type": "execute_result",
          "data": {
            "text/plain": "{1, 2, 3, 4, 5}"
          },
          "metadata": {}
        }
      ]
    },
    {
      "cell_type": "markdown",
      "source": "Ans 5: A Dictionary is a built-in data structure in python that allows to store an unordered collection of key-value pairs.\nExample of a dictionary is person={\"name\":\"Ritesh\",\"Age\":28,\"City\":\"Lucknow\"}\nDictionary is unordered.",
      "metadata": {}
    },
    {
      "cell_type": "markdown",
      "source": "Ans 6: If value of a dictionary is also a dictionary then it is called a nested dictionary.\nExample:",
      "metadata": {}
    },
    {
      "cell_type": "code",
      "source": "dic={\"name\":\"Ritesh\",\"Age\":28,\"Address\":{\"City\":\"Lucknow\",\"Sector\":\"D\"}}",
      "metadata": {
        "trusted": true
      },
      "execution_count": 30,
      "outputs": []
    },
    {
      "cell_type": "code",
      "source": "dic[\"Address\"][\"City\"]",
      "metadata": {
        "trusted": true
      },
      "execution_count": 31,
      "outputs": [
        {
          "execution_count": 31,
          "output_type": "execute_result",
          "data": {
            "text/plain": "'Lucknow'"
          },
          "metadata": {}
        }
      ]
    },
    {
      "cell_type": "markdown",
      "source": "Ans 7: You can use the setdefault() method to add a key-value pair to a dictionary in Python. The setdefault() method creates the key if it does not exist in the dictionary and sets its value to the specified default value.\n\nHere's how you can use setdefault() to create a key named 'topics' with the value ['Python', 'Machine Learning', 'Deep Learning'] in the dictionary dict1:",
      "metadata": {}
    },
    {
      "cell_type": "code",
      "source": "dict1 = {'language' : 'Python', 'course': 'Data Science Masters'}\ndict1.setdefault('topics', ['Python', 'Machine Learning', 'Deep Learning'])\ndict1",
      "metadata": {
        "trusted": true
      },
      "execution_count": 35,
      "outputs": [
        {
          "execution_count": 35,
          "output_type": "execute_result",
          "data": {
            "text/plain": "{'language': 'Python',\n 'course': 'Data Science Masters',\n 'topics': ['Python', 'Machine Learning', 'Deep Learning']}"
          },
          "metadata": {}
        }
      ]
    },
    {
      "cell_type": "markdown",
      "source": "Ans 8: In Python, dictionaries have three view objects: keys(), values(), and items(). These methods return a view object that displays a list-like object of all the keys, values, or both key-value pairs, respectively.\n\nHere's how you can use the three in-built methods to display these three view objects for the dictionary dict1:\n",
      "metadata": {}
    },
    {
      "cell_type": "code",
      "source": "dict1 = {'Sport': 'Cricket' , 'Teams': ['India', 'Australia', 'England', 'South Africa', 'Sri Lanka', 'New Zealand']}\n\n\nkeys = dict1.keys()\nprint(\"Keys: \", keys)  \n\nvalues = dict1.values()\nprint(\"Values: \", values) \n\nitems = dict1.items()\nprint(\"Items: \", items)\n",
      "metadata": {
        "trusted": true
      },
      "execution_count": 37,
      "outputs": [
        {
          "name": "stdout",
          "text": "Keys:  dict_keys(['Sport', 'Teams'])\nValues:  dict_values(['Cricket', ['India', 'Australia', 'England', 'South Africa', 'Sri Lanka', 'New Zealand']])\nItems:  dict_items([('Sport', 'Cricket'), ('Teams', ['India', 'Australia', 'England', 'South Africa', 'Sri Lanka', 'New Zealand'])])\n",
          "output_type": "stream"
        }
      ]
    },
    {
      "cell_type": "code",
      "source": "",
      "metadata": {},
      "execution_count": null,
      "outputs": []
    }
  ]
}